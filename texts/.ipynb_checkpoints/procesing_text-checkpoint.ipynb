{
 "cells": [
  {
   "cell_type": "code",
   "execution_count": 2,
   "metadata": {},
   "outputs": [
    {
     "ename": "FileNotFoundError",
     "evalue": "[Errno 2] No such file or directory: '/home/maisi/Documentos/1.facu/1.mineria-de-datos/labs/proyect/pressagio/texts'",
     "output_type": "error",
     "traceback": [
      "\u001b[0;31m---------------------------------------------------------------------------\u001b[0m",
      "\u001b[0;31mFileNotFoundError\u001b[0m                         Traceback (most recent call last)",
      "\u001b[0;32m<ipython-input-2-f9892f8f0b41>\u001b[0m in \u001b[0;36m<module>\u001b[0;34m\u001b[0m\n\u001b[1;32m      2\u001b[0m \u001b[0maddress\u001b[0m \u001b[0;34m=\u001b[0m \u001b[0;34m\"/home/maisi/Documentos/1.facu/1.mineria-de-datos/labs/proyect/pressagio/texts\"\u001b[0m\u001b[0;34m\u001b[0m\u001b[0;34m\u001b[0m\u001b[0m\n\u001b[1;32m      3\u001b[0m \u001b[0mresult\u001b[0m \u001b[0;34m=\u001b[0m \u001b[0;34m[\u001b[0m\u001b[0;34m]\u001b[0m\u001b[0;34m\u001b[0m\u001b[0;34m\u001b[0m\u001b[0m\n\u001b[0;32m----> 4\u001b[0;31m \u001b[0;32mfor\u001b[0m \u001b[0mfile\u001b[0m \u001b[0;32min\u001b[0m \u001b[0mos\u001b[0m\u001b[0;34m.\u001b[0m\u001b[0mlistdir\u001b[0m\u001b[0;34m(\u001b[0m\u001b[0maddress\u001b[0m\u001b[0;34m)\u001b[0m\u001b[0;34m:\u001b[0m\u001b[0;34m\u001b[0m\u001b[0;34m\u001b[0m\u001b[0m\n\u001b[0m\u001b[1;32m      5\u001b[0m     if (os.path.isfile(file) and  str(file) !=\"procesing_text.ipynb\" and file !=\"vocab.txt\"\n\u001b[1;32m      6\u001b[0m        and  str(file) !=\"corpus.txt\" and file !=\"out.txt\"):\n",
      "\u001b[0;31mFileNotFoundError\u001b[0m: [Errno 2] No such file or directory: '/home/maisi/Documentos/1.facu/1.mineria-de-datos/labs/proyect/pressagio/texts'"
     ]
    }
   ],
   "source": [
    "import os\n",
    "address = \"/home/bow/Documentos/1.mineria-de-datos/labs/proyect/predictores/pressagio/pressagio/example/proyecto\"\" \n",
    "result = []\n",
    "for file in os.listdir(address):\n",
    "    if (os.path.isfile(file) and  str(file) !=\"procesing_text.ipynb\" and file !=\"vocab.txt\"\n",
    "       and  str(file) !=\"corpus.txt\" and file !=\"out.txt\"):\n",
    "        result.append(file)\n",
    "        \n"
   ]
  },
  {
   "cell_type": "code",
   "execution_count": 32,
   "metadata": {},
   "outputs": [
    {
     "name": "stdout",
     "output_type": "stream",
     "text": [
      "['text1.txt', 'text5.txt', 'text4.txt', 'text6.txt', 'text9.txt', 'text2.txt', 'text3.txt', 'text8.txt']\n"
     ]
    }
   ],
   "source": [
    "print (result)"
   ]
  },
  {
   "cell_type": "code",
   "execution_count": 44,
   "metadata": {},
   "outputs": [],
   "source": [
    "def deleteline(filein, fileout, slinea):\n",
    "    # copia un archivo eliminando en la copia las lineas que coinciden con slinea\n",
    "    fin = open(filein, \"r\", encoding='ISO-8859-1')\n",
    "    fout = open(fileout, \"w\", encoding='ISO-8859-1')\n",
    "    for linea in fin:\n",
    "        if(slinea!=linea):\n",
    "            fout.write(linea.lower())\n",
    "    fout.close()\n",
    "    fin.close()\n",
    "\n",
    "deleteline(\"corpus_of_talk.txt\",\"out3.txt\",\"\\n\")"
   ]
  },
  {
   "cell_type": "code",
   "execution_count": null,
   "metadata": {},
   "outputs": [],
   "source": []
  }
 ],
 "metadata": {
  "kernelspec": {
   "display_name": "Python 3",
   "language": "python",
   "name": "python3"
  },
  "language_info": {
   "codemirror_mode": {
    "name": "ipython",
    "version": 3
   },
   "file_extension": ".py",
   "mimetype": "text/x-python",
   "name": "python",
   "nbconvert_exporter": "python",
   "pygments_lexer": "ipython3",
   "version": "3.7.5"
  }
 },
 "nbformat": 4,
 "nbformat_minor": 2
}

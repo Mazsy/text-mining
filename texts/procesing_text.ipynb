{
 "cells": [
  {
   "cell_type": "code",
   "execution_count": 6,
   "metadata": {},
   "outputs": [],
   "source": [
    "import os\n",
    "address = \"/home/bow/Documentos/1.mineria-de-datos/labs/proyect/predictores/pressagio/pressagio/example/proyecto/texts\" \n",
    "result = []\n",
    "for file in os.listdir(address):\n",
    "    if (os.path.isfile(file) and  str(file) !=\"procesing_text.ipynb\" and file !=\"vocab.txt\"\n",
    "       and  str(file) !=\"corpus.txt\" and file !=\"out.txt\"):\n",
    "        result.append(file)\n",
    "        \n"
   ]
  },
  {
   "cell_type": "code",
   "execution_count": 7,
   "metadata": {},
   "outputs": [
    {
     "name": "stdout",
     "output_type": "stream",
     "text": [
      "['text3.txt', 'text6.txt', 'text8.txt', 'text9.txt', 'text4.txt', 'corpus_sin_linea_blanco.txt', 'text5.txt', 'text2.txt', 'text1.txt', 'corpus_of_talk.txt']\n"
     ]
    }
   ],
   "source": [
    "print (result)"
   ]
  },
  {
   "cell_type": "code",
   "execution_count": 44,
   "metadata": {},
   "outputs": [],
   "source": [
    "def deleteline(filein, fileout, slinea):\n",
    "    # copia un archivo eliminando en la copia las lineas que coinciden con slinea\n",
    "    fin = open(filein, \"r\", encoding='ISO-8859-1')\n",
    "    fout = open(fileout, \"w\", encoding='ISO-8859-1')\n",
    "    for linea in fin:\n",
    "        if(slinea!=linea):\n",
    "            fout.write(linea.lower())\n",
    "    fout.close()\n",
    "    fin.close()\n",
    "\n",
    "deleteline(\"corpus_of_talk.txt\",\"out3.txt\",\"\\n\")"
   ]
  },
  {
   "cell_type": "code",
   "execution_count": null,
   "metadata": {},
   "outputs": [],
   "source": []
  }
 ],
 "metadata": {
  "kernelspec": {
   "display_name": "Python 3",
   "language": "python",
   "name": "python3"
  },
  "language_info": {
   "codemirror_mode": {
    "name": "ipython",
    "version": 3
   },
   "file_extension": ".py",
   "mimetype": "text/x-python",
   "name": "python",
   "nbconvert_exporter": "python",
   "pygments_lexer": "ipython3",
   "version": "3.7.5"
  }
 },
 "nbformat": 4,
 "nbformat_minor": 2
}

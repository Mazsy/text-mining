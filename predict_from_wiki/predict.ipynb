{
 "cells": [
  {
   "cell_type": "code",
   "execution_count": 1,
   "metadata": {},
   "outputs": [],
   "source": [
    "import configparser\n",
    "import os\n",
    "\n",
    "import pressagio.callback\n",
    "import pressagio\n"
   ]
  },
  {
   "cell_type": "code",
   "execution_count": 2,
   "metadata": {},
   "outputs": [
    {
     "name": "stdout",
     "output_type": "stream",
     "text": [
      "/home/bow/Documentos/1.mineria-de-datos/labs/proyect/predictores/pressagio/pressagio/example/preprocesamiento_wiki\n"
     ]
    }
   ],
   "source": [
    "#directorio donde estoy parado\n",
    "SCRIPT_DIR = os.path.abspath('')\n",
    "print (SCRIPT_DIR)\n"
   ]
  },
  {
   "cell_type": "code",
   "execution_count": 3,
   "metadata": {},
   "outputs": [],
   "source": [
    "# Define y create objetos PresageCallback\n",
    "class DemoCallback(pressagio.callback.Callback):\n",
    "    def __init__(self, buffer):\n",
    "        super().__init__()\n",
    "        self.buffer = buffer\n",
    "\n",
    "    def past_stream(self):\n",
    "        return self.buffer\n",
    "\n",
    "    def future_stream(self):\n",
    "        return \"\"\n",
    "\n",
    "\n"
   ]
  },
  {
   "cell_type": "code",
   "execution_count": 4,
   "metadata": {},
   "outputs": [],
   "source": [
    "#crea una ruta donde se encuentra el archivo .ini\n",
    "config_file = os.path.join(SCRIPT_DIR, \"example_profile.ini\")\n"
   ]
  },
  {
   "cell_type": "code",
   "execution_count": 5,
   "metadata": {},
   "outputs": [
    {
     "data": {
      "text/plain": [
       "['/home/bow/Documentos/1.mineria-de-datos/labs/proyect/predictores/pressagio/pressagio/example/preprocesamiento_wiki/example_profile.ini']"
      ]
     },
     "execution_count": 5,
     "metadata": {},
     "output_type": "execute_result"
    }
   ],
   "source": [
    "#parsea la configuracion\n",
    "config = configparser.ConfigParser()\n",
    "config.read(config_file)\n"
   ]
  },
  {
   "cell_type": "code",
   "execution_count": 6,
   "metadata": {},
   "outputs": [],
   "source": [
    "#texto a traducir\n",
    "callback = DemoCallback(\"qweres q te de 2 mil, y me traes d\")\n",
    "callback2 = DemoCallback(\"te \")\n",
    "callback3 = DemoCallback(\"como \")\n"
   ]
  },
  {
   "cell_type": "code",
   "execution_count": 8,
   "metadata": {},
   "outputs": [
    {
     "name": "stdout",
     "output_type": "stream",
     "text": [
      "['de', 'del', 'doc', 'dbindex', 'dos'] ['lo', 'te', 'la', 'da', 'entregan'] ['el', 'la', 'un', 'una', 'en']\n"
     ]
    }
   ],
   "source": [
    "\n",
    "prsgio = pressagio.Pressagio(callback, config)\n",
    "prsgio2 = pressagio.Pressagio(callback2, config)\n",
    "prsgio3 = pressagio.Pressagio(callback3, config)\n",
    "#predictor\n",
    "predictions = prsgio.predict()\n",
    "predictions2 = prsgio2.predict()\n",
    "predictions3 = prsgio3.predict()\n",
    "print(predictions, predictions2, predictions3)"
   ]
  },
  {
   "cell_type": "code",
   "execution_count": null,
   "metadata": {},
   "outputs": [],
   "source": []
  }
 ],
 "metadata": {
  "kernelspec": {
   "display_name": "Python 3",
   "language": "python",
   "name": "python3"
  },
  "language_info": {
   "codemirror_mode": {
    "name": "ipython",
    "version": 3
   },
   "file_extension": ".py",
   "mimetype": "text/x-python",
   "name": "python",
   "nbconvert_exporter": "python",
   "pygments_lexer": "ipython3",
   "version": "3.7.5"
  }
 },
 "nbformat": 4,
 "nbformat_minor": 2
}

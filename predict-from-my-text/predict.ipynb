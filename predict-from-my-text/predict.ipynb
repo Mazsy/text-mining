{
 "cells": [
  {
   "cell_type": "code",
   "execution_count": 2,
   "metadata": {},
   "outputs": [],
   "source": [
    "import configparser\n",
    "import os\n",
    "\n",
    "import pressagio.callback\n",
    "import pressagio\n"
   ]
  },
  {
   "cell_type": "code",
   "execution_count": 3,
   "metadata": {},
   "outputs": [
    {
     "name": "stdout",
     "output_type": "stream",
     "text": [
      "/home/bow/Documentos/1.mineria-de-datos/labs/proyect/predictores/pressagio/pressagio/example/proyecto/predict-from-my-text\n"
     ]
    }
   ],
   "source": [
    "\n",
    "SCRIPT_DIR = os.path.abspath('')\n",
    "print (SCRIPT_DIR)\n"
   ]
  },
  {
   "cell_type": "code",
   "execution_count": 4,
   "metadata": {},
   "outputs": [],
   "source": [
    "# Define and create PresageCallback object\n",
    "class DemoCallback(pressagio.callback.Callback):\n",
    "    def __init__(self, buffer):\n",
    "        super().__init__()\n",
    "        self.buffer = buffer\n",
    "\n",
    "    def past_stream(self):\n",
    "        return self.buffer\n",
    "\n",
    "    def future_stream(self):\n",
    "        return \"\"\n",
    "\n",
    "\n"
   ]
  },
  {
   "cell_type": "code",
   "execution_count": 5,
   "metadata": {},
   "outputs": [],
   "source": [
    "config_file = os.path.join(SCRIPT_DIR, \"example_profile.ini\")\n"
   ]
  },
  {
   "cell_type": "code",
   "execution_count": 6,
   "metadata": {},
   "outputs": [
    {
     "data": {
      "text/plain": [
       "['/home/bow/Documentos/1.mineria-de-datos/labs/proyect/predictores/pressagio/pressagio/example/proyecto/predict-from-my-text/example_profile.ini']"
      ]
     },
     "execution_count": 6,
     "metadata": {},
     "output_type": "execute_result"
    }
   ],
   "source": [
    "\n",
    "\n",
    "config = configparser.ConfigParser()\n",
    "config.read(config_file)\n"
   ]
  },
  {
   "cell_type": "code",
   "execution_count": 17,
   "metadata": {},
   "outputs": [
    {
     "name": "stdout",
     "output_type": "stream",
     "text": [
      "Porfavor, ingrese texto a predecir: qweres \n",
      "<class '__main__.DemoCallback'>\n",
      "<class 'str'>\n"
     ]
    }
   ],
   "source": [
    "#frase en mi dataset: qweres q te de 2 mil, y me traes despuues \n",
    "text = input(\"Porfavor, ingrese texto a predecir: \")\n",
    "textpredict = DemoCallback(text)\n",
    "print(type(textpredict))\n",
    "print(type(text))"
   ]
  },
  {
   "cell_type": "code",
   "execution_count": 18,
   "metadata": {},
   "outputs": [
    {
     "name": "stdout",
     "output_type": "stream",
     "text": [
      "['q', 'qweres', 'y', 'a', 'la']\n"
     ]
    }
   ],
   "source": [
    "\n",
    "prsgio = pressagio.Pressagio(textpredict, config)\n",
    "\n",
    "predictions = prsgio.predict()\n",
    "print(predictions)"
   ]
  },
  {
   "cell_type": "markdown",
   "metadata": {},
   "source": [
    "# Con widgets"
   ]
  },
  {
   "cell_type": "code",
   "execution_count": 20,
   "metadata": {
    "scrolled": true
   },
   "outputs": [
    {
     "data": {
      "application/vnd.jupyter.widget-view+json": {
       "model_id": "62e5999d6818426e955822bb8c856c3d",
       "version_major": 2,
       "version_minor": 0
      },
      "text/plain": [
       "Text(value='', description='Texto: ', placeholder='Porfavor! describa el texto a predecir')"
      ]
     },
     "metadata": {},
     "output_type": "display_data"
    }
   ],
   "source": [
    "from ipywidgets import interact, widgets\n",
    "from IPython.display import display\n",
    "\n",
    "text = widgets.Text(\n",
    "    placeholder='Porfavor! describa el texto a predecir',\n",
    "    description='Texto: ',\n",
    "    disabled=False\n",
    ")\n",
    "display(text)\n",
    "\n",
    "def callback(wdgt):\n",
    "    # qweres q te de 2 mil, y me traes despuues\n",
    "    display(wdgt.value)\n",
    "    textpredict = DemoCallback(wdgt.value)\n",
    "    prsgio = pressagio.Pressagio(textpredict, config)\n",
    "    predictions = prsgio.predict()\n",
    "    print (predictions)\n",
    "    \n",
    "text.on_submit(callback)\n",
    "\n"
   ]
  },
  {
   "cell_type": "code",
   "execution_count": null,
   "metadata": {},
   "outputs": [],
   "source": []
  }
 ],
 "metadata": {
  "kernelspec": {
   "display_name": "Python 3",
   "language": "python",
   "name": "python3"
  },
  "language_info": {
   "codemirror_mode": {
    "name": "ipython",
    "version": 3
   },
   "file_extension": ".py",
   "mimetype": "text/x-python",
   "name": "python",
   "nbconvert_exporter": "python",
   "pygments_lexer": "ipython3",
   "version": "3.7.5"
  }
 },
 "nbformat": 4,
 "nbformat_minor": 2
}
